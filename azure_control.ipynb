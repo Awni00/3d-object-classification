{
 "metadata": {
  "language_info": {
   "codemirror_mode": {
    "name": "ipython",
    "version": 3
   },
   "file_extension": ".py",
   "mimetype": "text/x-python",
   "name": "python",
   "nbconvert_exporter": "python",
   "pygments_lexer": "ipython3",
   "version": "3.8.0-final"
  },
  "orig_nbformat": 2,
  "kernelspec": {
   "name": "python3",
   "display_name": "Python 3.8.0 64-bit ('ml': conda)",
   "metadata": {
    "interpreter": {
     "hash": "205d50f58f82a2b4d9ed38d5fc136ab30afd6ca8c2e73e92b6068ffbf36380d0"
    }
   }
  }
 },
 "nbformat": 4,
 "nbformat_minor": 2,
 "cells": [
  {
   "source": [
    "# Control Script"
   ],
   "cell_type": "markdown",
   "metadata": {}
  },
  {
   "source": [
    "## RUN TRAINING SCRIPT"
   ],
   "cell_type": "markdown",
   "metadata": {}
  },
  {
   "cell_type": "code",
   "execution_count": null,
   "metadata": {},
   "outputs": [],
   "source": [
    "from azureml.core import Workspace\n",
    "from azureml.core import Experiment\n",
    "from azureml.core import Environment\n",
    "from azureml.core import ScriptRunConfig\n",
    "from azureml.core import Dataset"
   ]
  },
  {
   "cell_type": "code",
   "execution_count": null,
   "metadata": {},
   "outputs": [],
   "source": [
    "ws = Workspace.from_config()\n",
    "datastore = ws.get_default_datastore()\n",
    "dataset = Dataset.File.from_files(path=(datastore, 'datasets/rgbd_dataset'))\n",
    "# embedding_model = Dataset.File.from_files(path=(datastore, 'embedding_models/bit_m-r50x1_1'))\n",
    "\n",
    "experiment_name = 'rgbd_model'\n",
    "experiment = Experiment(workspace=ws, name=experiment_name)"
   ]
  },
  {
   "cell_type": "code",
   "execution_count": null,
   "metadata": {},
   "outputs": [],
   "source": [
    "compute_name = 'gpu-compute-3dcv'\n",
    "\n",
    "config = ScriptRunConfig(\n",
    "    source_directory='./src',\n",
    "    script='train.py',\n",
    "    compute_target=compute_name,\n",
    "    arguments=[\n",
    "        '--data_path', dataset.as_named_input('input').as_mount(),\n",
    "        ],\n",
    ")"
   ]
  },
  {
   "cell_type": "code",
   "execution_count": null,
   "metadata": {},
   "outputs": [],
   "source": [
    "# # set up 3dcv environment\n",
    "# env_path = '.azureml/3dcv-env.yml'\n",
    "# env = Environment.from_conda_specification(\n",
    "#     name='3dcv',\n",
    "#     file_path=env_path\n",
    "# )\n",
    "# env.register(workspace=ws);"
   ]
  },
  {
   "cell_type": "code",
   "execution_count": null,
   "metadata": {},
   "outputs": [],
   "source": [
    "env = ws.environments['3dcv']\n",
    "env.docker.enabled = True\n",
    "env.docker.base_image = 'mcr.microsoft.com/azureml/openmpi3.1.2-cuda10.1-cudnn7-ubuntu18.04'\n",
    "\n",
    "# # curated tensorflow environment\n",
    "# curated_env_name = 'AzureML-TensorFlow-2.2-GPU'\n",
    "# env = Environment.get(workspace=ws, name=curated_env_name)\n",
    "# env.docker.enabled = True\n",
    "# env.docker.base_image = 'mcr.microsoft.com/azureml/openmpi3.1.2-cuda10.1-cudnn7-ubuntu18.04'"
   ]
  },
  {
   "cell_type": "code",
   "execution_count": null,
   "metadata": {},
   "outputs": [],
   "source": [
    "config.run_config.environment = env # or tf_env"
   ]
  },
  {
   "cell_type": "code",
   "execution_count": null,
   "metadata": {},
   "outputs": [],
   "source": [
    "run = experiment.submit(config)\n",
    "aml_url = run.get_portal_url()\n",
    "print(\"Submitted to compute cluster:\\n\")\n",
    "print(aml_url)"
   ]
  },
  {
   "cell_type": "code",
   "execution_count": null,
   "metadata": {},
   "outputs": [],
   "source": [
    "run"
   ]
  },
  {
   "cell_type": "code",
   "execution_count": null,
   "metadata": {
    "tags": [
     "outputPrepend"
    ]
   },
   "outputs": [],
   "source": [
    "# specify show_output to True for a verbose log\n",
    "run.wait_for_completion (show_output=True) "
   ]
  },
  {
   "cell_type": "code",
   "execution_count": null,
   "metadata": {},
   "outputs": [],
   "source": [
    "run.get_file_names()"
   ]
  },
  {
   "cell_type": "code",
   "execution_count": null,
   "metadata": {},
   "outputs": [],
   "source": [
    "# register model \n",
    "model = run.register_model(model_name='rgbd_model', model_path='outputs/rgbd_model.h5')\n",
    "print(model.name, model.id, model.version, sep='\\t')"
   ]
  }
 ]
}