{
 "metadata": {
  "language_info": {
   "codemirror_mode": {
    "name": "ipython",
    "version": 3
   },
   "file_extension": ".py",
   "mimetype": "text/x-python",
   "name": "python",
   "nbconvert_exporter": "python",
   "pygments_lexer": "ipython3",
   "version": "3.7.0-final"
  },
  "orig_nbformat": 2,
  "kernelspec": {
   "name": "python3",
   "display_name": "Python 3.7.0 64-bit ('3dcv': conda)",
   "metadata": {
    "interpreter": {
     "hash": "5bbec2c175cdc645bdcaa7c23b1994df206e8fec5e7a0d34dbfaad9347bbf153"
    }
   }
  }
 },
 "nbformat": 4,
 "nbformat_minor": 2,
 "cells": [
  {
   "source": [
    "# Depth Validation"
   ],
   "cell_type": "markdown",
   "metadata": {}
  },
  {
   "source": [
    "validating the use of depth information in rgb-d and rgb-hha models"
   ],
   "cell_type": "markdown",
   "metadata": {}
  },
  {
   "cell_type": "code",
   "execution_count": 1,
   "metadata": {},
   "outputs": [],
   "source": [
    "import time\n",
    "import itertools\n",
    "\n",
    "from tqdm import tqdm\n",
    "\n",
    "import numpy as np\n",
    "import pandas as pd\n",
    "import matplotlib.pyplot as plt\n",
    "import plotly.express as px\n",
    "\n",
    "from sklearn.metrics import classification_report, confusion_matrix\n",
    "\n",
    "import tensorflow as tf\n",
    "import tensorflow_hub as hub\n",
    "\n",
    "from src import utils#, eval_utils, rgbd_model, rgb_model, depth_model, hha_model, rgb_hha_model"
   ]
  },
  {
   "source": [
    "## Load dataset(s)"
   ],
   "cell_type": "markdown",
   "metadata": {}
  },
  {
   "cell_type": "code",
   "execution_count": 2,
   "metadata": {},
   "outputs": [],
   "source": [
    "train_data_path = 'C:/Users/awnya/Documents/Projects/RGBD Object Classification/RGBD_dataset' + '/train'\n",
    "test_data_path = 'C:/Users/awnya/Documents/Projects/RGBD Object Classification/RGBD_dataset' + '/test'"
   ]
  },
  {
   "cell_type": "code",
   "execution_count": 3,
   "metadata": {},
   "outputs": [
    {
     "output_type": "stream",
     "name": "stdout",
     "text": [
      "loading rgbd test dataset\n",
      "done! took 23.84 seconds\n"
     ]
    }
   ],
   "source": [
    "#\n",
    "start_time = time.time()\n",
    "\n",
    "print('loading rgbd test dataset')\n",
    "# rgbd_train_dataset = utils.create_rgbd_dataset(train_data_path, azure=False)\n",
    "rgbd_test_dataset = utils.create_rgbd_dataset(test_data_path, azure=False)\n",
    "\n",
    "print(f'done! took {time.time()-start_time:.2f} seconds')"
   ]
  },
  {
   "cell_type": "code",
   "execution_count": 4,
   "metadata": {},
   "outputs": [
    {
     "output_type": "stream",
     "name": "stdout",
     "text": [
      "loading rgb-hha test dataset\n",
      "done! took 16.80 seconds\n"
     ]
    }
   ],
   "source": [
    "#\n",
    "start_time = time.time()\n",
    "\n",
    "print('loading rgb-hha test dataset')\n",
    "# rgbd_train_dataset = utils.create_rgbd_dataset(train_data_path, azure=False)\n",
    "rgb_hha_test_dataset = utils.create_rgb_hha_dataset(test_data_path, azure=False)\n",
    "\n",
    "print(f'done! took {time.time()-start_time:.2f} seconds')"
   ]
  },
  {
   "source": [
    "## Load model(s)"
   ],
   "cell_type": "markdown",
   "metadata": {}
  },
  {
   "cell_type": "code",
   "execution_count": 5,
   "metadata": {},
   "outputs": [],
   "source": [
    "import sys\n",
    "sys.path.insert(0,'src')"
   ]
  },
  {
   "source": [
    "import rgb_hha_model, rgbd_model"
   ],
   "cell_type": "code",
   "metadata": {},
   "execution_count": 6,
   "outputs": []
  },
  {
   "cell_type": "code",
   "execution_count": 7,
   "metadata": {},
   "outputs": [],
   "source": [
    "rgb_feat_vec_embedding = hub.KerasLayer('models/bit_m-r50x1_1')"
   ]
  },
  {
   "cell_type": "code",
   "execution_count": 8,
   "metadata": {},
   "outputs": [],
   "source": [
    "hha_weights_path = 'src/models_archive/hha_run2_epoch6_weights.h5'\n",
    "\n",
    "hha_feat_extractor = rgb_hha_model.build_hha_feature_extractor(\n",
    "    weights=hha_weights_path, trainable=True)\n",
    "# hha_feat_extractor.summary()\n",
    "\n",
    "# now build rgb-hha model\n",
    "rgb_hha_mdl = rgb_hha_model.build_rgb_hha_model(input_shape=(200, 200), num_classes=51,\n",
    "    hha_feat_vec_embedding=hha_feat_extractor, rgb_feat_vec_embedding=rgb_feat_vec_embedding,\n",
    "    model_name='rgb-hha_model')"
   ]
  },
  {
   "cell_type": "code",
   "execution_count": 9,
   "metadata": {},
   "outputs": [],
   "source": [
    "rgbd_mdl = rgbd_model.build_model(input_shape=(200, 200), num_classes=51, \n",
    "    feat_vec_embedding=rgb_feat_vec_embedding)"
   ]
  },
  {
   "cell_type": "code",
   "execution_count": 10,
   "metadata": {},
   "outputs": [],
   "source": [
    "rgbd_weights = 'src/models_archive/rgbd_model_run29_epoch3_weights.h5'\n",
    "rgbd_mdl.load_weights(rgbd_weights)"
   ]
  },
  {
   "source": [
    "## Examine Trained weights"
   ],
   "cell_type": "markdown",
   "metadata": {}
  },
  {
   "source": [
    "### rgb-hha"
   ],
   "cell_type": "markdown",
   "metadata": {}
  },
  {
   "cell_type": "code",
   "execution_count": 11,
   "metadata": {},
   "outputs": [
    {
     "output_type": "execute_result",
     "data": {
      "text/plain": [
       "<tf.Variable 'dense1/kernel:0' shape=(2624, 128) dtype=float32, numpy=\n",
       "array([[ 0.02306938,  0.03978315, -0.00144333, ..., -0.00076058,\n",
       "         0.02449546, -0.00484867],\n",
       "       [-0.03843796, -0.00768983, -0.01515529, ..., -0.00361391,\n",
       "         0.04495641,  0.03982913],\n",
       "       [-0.03658483,  0.00489531, -0.03869307, ..., -0.04374599,\n",
       "        -0.0307797 ,  0.01834197],\n",
       "       ...,\n",
       "       [ 0.03150812,  0.0091397 , -0.03175697, ...,  0.04335028,\n",
       "         0.03267912,  0.0101967 ],\n",
       "       [ 0.01170947,  0.03749277,  0.01848451, ..., -0.00074663,\n",
       "        -0.03179657, -0.03446211],\n",
       "       [ 0.02998374, -0.01455357, -0.04189331, ..., -0.03203732,\n",
       "        -0.01371172, -0.01200302]], dtype=float32)>"
      ]
     },
     "metadata": {},
     "execution_count": 11
    }
   ],
   "source": [
    "dense1_weights = rgb_hha_mdl.get_layer(name='dense1').weights[0]\n",
    "dense1_weights"
   ]
  },
  {
   "cell_type": "code",
   "execution_count": 12,
   "metadata": {},
   "outputs": [],
   "source": [
    "rgb_weights = dense1_weights[:2048]\n",
    "hha_weights = dense1_weights[-576:]"
   ]
  },
  {
   "cell_type": "code",
   "execution_count": 13,
   "metadata": {},
   "outputs": [
    {
     "output_type": "stream",
     "name": "stdout",
     "text": [
      "\n\n------------------------------\nrgb:\navg: 0.023348242044448853\nmedian: 0.023321080952882767\nmax: 0.0466926172375679\nmin: -0.0466923713684082\nstd: 0.026955856010317802\n\n\n------------------------------\nhha:\navg: 0.023346219211816788\nmedian: 0.02336551435291767\nmax: 0.04668945074081421\nmin: -0.04669182375073433\nstd: 0.026949765160679817\n"
     ]
    }
   ],
   "source": [
    "for name, weights in [('rgb', rgb_weights), ('hha', hha_weights)]:\n",
    "    print(f\"\\n\\n{'-'*30}\\n{name}:\")\n",
    "\n",
    "    print(f'avg: {np.average(np.abs(weights))}')\n",
    "    print(f'median: {np.median(np.abs(weights))}')\n",
    "    print(f'max: {np.max(weights)}')\n",
    "    print(f'min: {np.min(weights)}')\n",
    "    print(f'std: {np.std(weights)}')"
   ]
  },
  {
   "source": [
    "results: all statistics almost identical..."
   ],
   "cell_type": "markdown",
   "metadata": {}
  },
  {
   "source": [
    "### rgb-d"
   ],
   "cell_type": "markdown",
   "metadata": {}
  },
  {
   "cell_type": "code",
   "execution_count": 14,
   "metadata": {},
   "outputs": [
    {
     "output_type": "stream",
     "name": "stdout",
     "text": [
      "Model: \"rgbd_model\"\n__________________________________________________________________________________________________\nLayer (type)                    Output Shape         Param #     Connected to                     \n==================================================================================================\ndepth_input (InputLayer)        [(None, 200, 200, 1) 0                                            \n__________________________________________________________________________________________________\nnormalize_depth (Rescaling)     (None, 200, 200, 1)  0           depth_input[0][0]                \n__________________________________________________________________________________________________\ndepth_conv1 (Conv2D)            (None, 200, 200, 32) 320         normalize_depth[0][0]            \n__________________________________________________________________________________________________\ndepth_maxpool1 (MaxPooling2D)   (None, 100, 100, 32) 0           depth_conv1[0][0]                \n__________________________________________________________________________________________________\ndepth_conv2 (Conv2D)            (None, 100, 100, 64) 18496       depth_maxpool1[0][0]             \n__________________________________________________________________________________________________\ndepth_maxpool2 (MaxPooling2D)   (None, 50, 50, 64)   0           depth_conv2[0][0]                \n__________________________________________________________________________________________________\ndepth_conv3 (Conv2D)            (None, 50, 50, 64)   36928       depth_maxpool2[0][0]             \n__________________________________________________________________________________________________\ndepth_maxpool3 (MaxPooling2D)   (None, 25, 25, 64)   0           depth_conv3[0][0]                \n__________________________________________________________________________________________________\ndepth_conv4 (Conv2D)            (None, 25, 25, 128)  73856       depth_maxpool3[0][0]             \n__________________________________________________________________________________________________\ndepth_maxpool4 (MaxPooling2D)   (None, 12, 12, 128)  0           depth_conv4[0][0]                \n__________________________________________________________________________________________________\ndepth_conv5 (Conv2D)            (None, 12, 12, 128)  147584      depth_maxpool4[0][0]             \n__________________________________________________________________________________________________\ndepth_maxpool5 (MaxPooling2D)   (None, 6, 6, 128)    0           depth_conv5[0][0]                \n__________________________________________________________________________________________________\nrgb_input (InputLayer)          [(None, 200, 200, 3) 0                                            \n__________________________________________________________________________________________________\ndepth_conv6 (Conv2D)            (None, 6, 6, 64)     73792       depth_maxpool5[0][0]             \n__________________________________________________________________________________________________\nnormalize_rgb (Rescaling)       (None, 200, 200, 3)  0           rgb_input[0][0]                  \n__________________________________________________________________________________________________\ndepth_maxpool6 (MaxPooling2D)   (None, 3, 3, 64)     0           depth_conv6[0][0]                \n__________________________________________________________________________________________________\nkeras_layer (KerasLayer)        (None, 2048)         23500352    normalize_rgb[0][0]              \n__________________________________________________________________________________________________\nflatten_1 (Flatten)             (None, 576)          0           depth_maxpool6[0][0]             \n__________________________________________________________________________________________________\nconcatenate_1 (Concatenate)     (None, 2624)         0           keras_layer[1][0]                \n                                                                 flatten_1[0][0]                  \n__________________________________________________________________________________________________\ndense1 (Dense)                  (None, 128)          336000      concatenate_1[0][0]              \n__________________________________________________________________________________________________\ndropout_4 (Dropout)             (None, 128)          0           dense1[0][0]                     \n__________________________________________________________________________________________________\ndense2 (Dense)                  (None, 64)           8256        dropout_4[0][0]                  \n__________________________________________________________________________________________________\ndropout_5 (Dropout)             (None, 64)           0           dense2[0][0]                     \n__________________________________________________________________________________________________\noutput (Dense)                  (None, 51)           3315        dropout_5[0][0]                  \n==================================================================================================\nTotal params: 24,198,899\nTrainable params: 698,547\nNon-trainable params: 23,500,352\n__________________________________________________________________________________________________\n"
     ]
    }
   ],
   "source": [
    "rgbd_mdl.summary()"
   ]
  },
  {
   "cell_type": "code",
   "execution_count": 15,
   "metadata": {},
   "outputs": [
    {
     "output_type": "execute_result",
     "data": {
      "text/plain": [
       "<tf.Variable 'dense1/kernel:0' shape=(2624, 128) dtype=float32, numpy=\n",
       "array([[ 0.01389671, -0.00398814,  0.00222813, ..., -0.01448179,\n",
       "         0.14257964, -0.0127115 ],\n",
       "       [-0.00167028, -0.12044226, -0.03236815, ..., -0.01964624,\n",
       "         0.02263955,  0.0066269 ],\n",
       "       [-0.10899132, -0.09754838, -0.02063757, ..., -0.04244673,\n",
       "         0.00974357, -0.03693372],\n",
       "       ...,\n",
       "       [-0.02111984, -0.00108565,  0.02134815, ..., -0.03997415,\n",
       "         0.03468368, -0.02181706],\n",
       "       [ 0.03983618, -0.01885728, -0.04094834, ...,  0.01095223,\n",
       "        -0.00877238, -0.01518761],\n",
       "       [-0.00902191, -0.00205019,  0.0148508 , ...,  0.03920665,\n",
       "         0.01647745, -0.04122907]], dtype=float32)>"
      ]
     },
     "metadata": {},
     "execution_count": 15
    }
   ],
   "source": [
    "dense1_weights = rgbd_mdl.get_layer(name='dense1').weights[0]\n",
    "dense1_weights"
   ]
  },
  {
   "cell_type": "code",
   "execution_count": 16,
   "metadata": {},
   "outputs": [],
   "source": [
    "rgb_weights = dense1_weights[:2048]\n",
    "depth_weights = dense1_weights[-576:]"
   ]
  },
  {
   "cell_type": "code",
   "execution_count": 17,
   "metadata": {},
   "outputs": [
    {
     "output_type": "stream",
     "name": "stdout",
     "text": [
      "\n\n------------------------------\nrgb:\navg absolute: 0.04485052451491356\nmedian: 0.029391683638095856\nmax: 0.8412381410598755\nmin: -0.9375953078269958\nstd: 0.0712394043803215\n\n\n------------------------------\ndepth:\navg absolute: 0.024327704682946205\nmedian: 0.02351420745253563\nmax: 0.16914620995521545\nmin: -0.16942475736141205\nstd: 0.028688514605164528\n"
     ]
    }
   ],
   "source": [
    "for name, weights in [('rgb', rgb_weights), ('depth', depth_weights)]:\n",
    "    print(f\"\\n\\n{'-'*30}\\n{name}:\")\n",
    "\n",
    "    print(f'avg absolute: {np.average(np.abs(weights))}')\n",
    "    print(f'median: {np.median(np.abs(weights))}')\n",
    "    print(f'max: {np.max(weights)}')\n",
    "    print(f'min: {np.min(weights)}')\n",
    "    print(f'std: {np.std(weights)}')"
   ]
  },
  {
   "source": [
    "this time, statistics not identical. but they are similar (same order of magnitude). avg and median absolute values higher on rgb, and max/min significantly higher. std lower on depth."
   ],
   "cell_type": "markdown",
   "metadata": {}
  },
  {
   "source": [],
   "cell_type": "markdown",
   "metadata": {}
  }
 ]
}