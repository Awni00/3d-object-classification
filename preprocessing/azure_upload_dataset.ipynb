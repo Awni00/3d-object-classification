{
 "metadata": {
  "language_info": {
   "codemirror_mode": {
    "name": "ipython",
    "version": 3
   },
   "file_extension": ".py",
   "mimetype": "text/x-python",
   "name": "python",
   "nbconvert_exporter": "python",
   "pygments_lexer": "ipython3",
   "version": "3.8.0-final"
  },
  "orig_nbformat": 2,
  "kernelspec": {
   "name": "python3",
   "display_name": "Python 3.8.0 64-bit ('ml': conda)",
   "metadata": {
    "interpreter": {
     "hash": "205d50f58f82a2b4d9ed38d5fc136ab30afd6ca8c2e73e92b6068ffbf36380d0"
    }
   }
  }
 },
 "nbformat": 4,
 "nbformat_minor": 2,
 "cells": [
  {
   "source": [
    "# Upload Dataset to Azure"
   ],
   "cell_type": "markdown",
   "metadata": {}
  },
  {
   "cell_type": "code",
   "execution_count": 1,
   "metadata": {},
   "outputs": [
    {
     "output_type": "stream",
     "name": "stderr",
     "text": [
      "Failure while loading azureml_run_type_providers. Failed to load entrypoint hyperdrive = azureml.train.hyperdrive:HyperDriveRun._from_run_dto with exception (pyOpenSSL 20.0.1 (c:\\users\\awnya\\miniconda3\\envs\\ml\\lib\\site-packages), Requirement.parse('pyopenssl<20.0.0'), {'azureml-core'}).\n",
      "Failure while loading azureml_run_type_providers. Failed to load entrypoint automl = azureml.train.automl.run:AutoMLRun._from_run_dto with exception (pyOpenSSL 20.0.1 (c:\\users\\awnya\\miniconda3\\envs\\ml\\lib\\site-packages), Requirement.parse('pyopenssl<20.0.0'), {'azureml-core'}).\n",
      "Failure while loading azureml_run_type_providers. Failed to load entrypoint azureml.PipelineRun = azureml.pipeline.core.run:PipelineRun._from_dto with exception (pyOpenSSL 20.0.1 (c:\\users\\awnya\\miniconda3\\envs\\ml\\lib\\site-packages), Requirement.parse('pyopenssl<20.0.0'), {'azureml-core'}).\n",
      "Failure while loading azureml_run_type_providers. Failed to load entrypoint azureml.ReusedStepRun = azureml.pipeline.core.run:StepRun._from_reused_dto with exception (pyOpenSSL 20.0.1 (c:\\users\\awnya\\miniconda3\\envs\\ml\\lib\\site-packages), Requirement.parse('pyopenssl<20.0.0'), {'azureml-core'}).\n",
      "Failure while loading azureml_run_type_providers. Failed to load entrypoint azureml.StepRun = azureml.pipeline.core.run:StepRun._from_dto with exception (pyOpenSSL 20.0.1 (c:\\users\\awnya\\miniconda3\\envs\\ml\\lib\\site-packages), Requirement.parse('pyopenssl<20.0.0'), {'azureml-core'}).\n",
      "Failure while loading azureml_run_type_providers. Failed to load entrypoint azureml.scriptrun = azureml.core.script_run:ScriptRun._from_run_dto with exception (pyOpenSSL 20.0.1 (c:\\users\\awnya\\miniconda3\\envs\\ml\\lib\\site-packages), Requirement.parse('pyopenssl<20.0.0')).\n",
      "Azure ML SDK Version:  1.19.0\n"
     ]
    }
   ],
   "source": [
    "import azureml.core\n",
    "from azureml.core import Workspace\n",
    "\n",
    "# check core SDK version number\n",
    "print(\"Azure ML SDK Version: \", azureml.core.VERSION)"
   ]
  },
  {
   "cell_type": "code",
   "execution_count": 2,
   "metadata": {},
   "outputs": [
    {
     "output_type": "stream",
     "name": "stdout",
     "text": [
      "3DCV\teastus2\t3DCV-resource-group\n"
     ]
    }
   ],
   "source": [
    "# load workspace configuration from the config.json file in the current folder.\n",
    "ws = Workspace.from_config()\n",
    "print(ws.name, ws.location, ws.resource_group, sep='\\t')"
   ]
  },
  {
   "cell_type": "code",
   "execution_count": 3,
   "metadata": {},
   "outputs": [],
   "source": [
    "experiment_name = 'rgb_model0'\n",
    "\n",
    "from azureml.core import Experiment\n",
    "exp = Experiment(workspace=ws, name=experiment_name)"
   ]
  },
  {
   "cell_type": "code",
   "execution_count": 4,
   "metadata": {},
   "outputs": [
    {
     "output_type": "error",
     "ename": "KeyError",
     "evalue": "'gpu-compute-3dcv'",
     "traceback": [
      "\u001b[1;31m---------------------------------------------------------------------------\u001b[0m",
      "\u001b[1;31mKeyError\u001b[0m                                  Traceback (most recent call last)",
      "\u001b[1;32m<ipython-input-4-ca1951876c2a>\u001b[0m in \u001b[0;36m<module>\u001b[1;34m\u001b[0m\n\u001b[0;32m      1\u001b[0m \u001b[1;31m# specify compute target\u001b[0m\u001b[1;33m\u001b[0m\u001b[1;33m\u001b[0m\u001b[1;33m\u001b[0m\u001b[0m\n\u001b[0;32m      2\u001b[0m \u001b[0mcompute_name\u001b[0m \u001b[1;33m=\u001b[0m \u001b[1;34m'gpu-compute-3dcv'\u001b[0m\u001b[1;33m\u001b[0m\u001b[1;33m\u001b[0m\u001b[0m\n\u001b[1;32m----> 3\u001b[1;33m \u001b[0mcompute_target\u001b[0m \u001b[1;33m=\u001b[0m \u001b[0mws\u001b[0m\u001b[1;33m.\u001b[0m\u001b[0mcompute_targets\u001b[0m\u001b[1;33m[\u001b[0m\u001b[0mcompute_name\u001b[0m\u001b[1;33m]\u001b[0m\u001b[1;33m\u001b[0m\u001b[1;33m\u001b[0m\u001b[0m\n\u001b[0m",
      "\u001b[1;31mKeyError\u001b[0m: 'gpu-compute-3dcv'"
     ]
    }
   ],
   "source": [
    "# specify compute target\n",
    "compute_name = 'gpu-compute-3dcv'\n",
    "compute_target = ws.compute_targets[compute_name]\n"
   ]
  },
  {
   "source": [
    "## UPLOAD DATA"
   ],
   "cell_type": "markdown",
   "metadata": {}
  },
  {
   "cell_type": "code",
   "execution_count": 5,
   "metadata": {},
   "outputs": [],
   "source": [
    "datastore = ws.get_default_datastore()"
   ]
  },
  {
   "cell_type": "code",
   "execution_count": 6,
   "metadata": {},
   "outputs": [
    {
     "output_type": "stream",
     "text": [
      "\u001b[1;31mSignature:\u001b[0m\n",
      "\u001b[0mdatastore\u001b[0m\u001b[1;33m.\u001b[0m\u001b[0mupload\u001b[0m\u001b[1;33m(\u001b[0m\u001b[1;33m\n",
      "\u001b[0m    \u001b[0msrc_dir\u001b[0m\u001b[1;33m,\u001b[0m\u001b[1;33m\n",
      "\u001b[0m    \u001b[0mtarget_path\u001b[0m\u001b[1;33m=\u001b[0m\u001b[1;32mNone\u001b[0m\u001b[1;33m,\u001b[0m\u001b[1;33m\n",
      "\u001b[0m    \u001b[0moverwrite\u001b[0m\u001b[1;33m=\u001b[0m\u001b[1;32mFalse\u001b[0m\u001b[1;33m,\u001b[0m\u001b[1;33m\n",
      "\u001b[0m    \u001b[0mshow_progress\u001b[0m\u001b[1;33m=\u001b[0m\u001b[1;32mTrue\u001b[0m\u001b[1;33m,\u001b[0m\u001b[1;33m\n",
      "\u001b[0m\u001b[1;33m)\u001b[0m\u001b[1;33m\u001b[0m\u001b[1;33m\u001b[0m\u001b[0m\n",
      "\u001b[1;31mDocstring:\u001b[0m\n",
      "Upload the data from the local file system to blob container this data store points to.\n",
      "\n",
      ":param src_dir: The local directory to upload.\n",
      ":type src_dir: str\n",
      ":param target_path: The location in blob container to upload to. If None, then upload to\n",
      "    root. Defaults to None.\n",
      ":type target_path: str\n",
      ":param overwrite: Indicates whether to overwrite existing files. Defaults to False.\n",
      ":type overwrite: bool, optional\n",
      ":param show_progress: Indicates whether to show progress of the upload in the console.\n",
      "    Defaults to True.\n",
      ":type show_progress: bool, optional\n",
      ":return: The DataReference instance for the target path uploaded.\n",
      ":rtype: azureml.data.data_reference.DataReference\n",
      "\u001b[1;31mFile:\u001b[0m      c:\\users\\awnya\\miniconda3\\envs\\ml\\lib\\site-packages\\azureml\\data\\azure_storage_datastore.py\n",
      "\u001b[1;31mType:\u001b[0m      method\n"
     ],
     "name": "stdout"
    }
   ],
   "source": [
    "datastore.upload?"
   ]
  },
  {
   "cell_type": "code",
   "execution_count": 7,
   "metadata": {
    "tags": [
     "outputPrepend"
    ]
   },
   "outputs": [
    {
     "output_type": "stream",
     "name": "stdout",
     "text": [
      "er_bottle\\water_bottle_7_4_6_mask.png\n",
      "Uploaded ../../RGBD_dataset\\train\\water_bottle\\water_bottle_7_4_6_mask.png, 185979 files out of an estimated total of 186078\n",
      "Uploading ../../RGBD_dataset\\train\\water_bottle\\water_bottle_7_4_7.png\n",
      "Uploaded ../../RGBD_dataset\\train\\water_bottle\\water_bottle_7_4_7.png, 185980 files out of an estimated total of 186078\n",
      "Uploading ../../RGBD_dataset\\train\\water_bottle\\water_bottle_7_4_70.png\n",
      "Uploaded ../../RGBD_dataset\\train\\water_bottle\\water_bottle_7_4_70.png, 185981 files out of an estimated total of 186078\n",
      "Uploading ../../RGBD_dataset\\train\\water_bottle\\water_bottle_7_4_70_depth.png\n",
      "Uploaded ../../RGBD_dataset\\train\\water_bottle\\water_bottle_7_4_70_depth.png, 185982 files out of an estimated total of 186078\n",
      "Uploading ../../RGBD_dataset\\train\\water_bottle\\water_bottle_7_4_70_mask.png\n",
      "Uploaded ../../RGBD_dataset\\train\\water_bottle\\water_bottle_7_4_70_mask.png, 185983 files out of an estimated total of 186078\n",
      "Uploading ../../RGBD_dataset\\train\\water_bottle\\water_bottle_7_4_71.png\n",
      "Uploaded ../../RGBD_dataset\\train\\water_bottle\\water_bottle_7_4_71.png, 185984 files out of an estimated total of 186078\n",
      "Uploading ../../RGBD_dataset\\train\\water_bottle\\water_bottle_7_4_71_depth.png\n",
      "Uploaded ../../RGBD_dataset\\train\\water_bottle\\water_bottle_7_4_71_depth.png, 185985 files out of an estimated total of 186078\n",
      "Uploading ../../RGBD_dataset\\train\\water_bottle\\water_bottle_7_4_71_mask.png\n",
      "Uploaded ../../RGBD_dataset\\train\\water_bottle\\water_bottle_7_4_71_mask.png, 185986 files out of an estimated total of 186078\n",
      "Uploading ../../RGBD_dataset\\train\\water_bottle\\water_bottle_7_4_72.png\n",
      "Uploaded ../../RGBD_dataset\\train\\water_bottle\\water_bottle_7_4_72.png, 185987 files out of an estimated total of 186078\n",
      "Uploading ../../RGBD_dataset\\train\\water_bottle\\water_bottle_7_4_72_depth.png\n",
      "Uploaded ../../RGBD_dataset\\train\\water_bottle\\water_bottle_7_4_72_depth.png, 185988 files out of an estimated total of 186078\n",
      "Uploading ../../RGBD_dataset\\train\\water_bottle\\water_bottle_7_4_72_mask.png\n",
      "Uploaded ../../RGBD_dataset\\train\\water_bottle\\water_bottle_7_4_72_mask.png, 185989 files out of an estimated total of 186078\n",
      "Uploading ../../RGBD_dataset\\train\\water_bottle\\water_bottle_7_4_73.png\n",
      "Uploaded ../../RGBD_dataset\\train\\water_bottle\\water_bottle_7_4_73.png, 185990 files out of an estimated total of 186078\n",
      "Uploading ../../RGBD_dataset\\train\\water_bottle\\water_bottle_7_4_73_depth.png\n",
      "Uploaded ../../RGBD_dataset\\train\\water_bottle\\water_bottle_7_4_73_depth.png, 185991 files out of an estimated total of 186078\n",
      "Uploading ../../RGBD_dataset\\train\\water_bottle\\water_bottle_7_4_73_mask.png\n",
      "Uploaded ../../RGBD_dataset\\train\\water_bottle\\water_bottle_7_4_73_mask.png, 185992 files out of an estimated total of 186078\n",
      "Uploading ../../RGBD_dataset\\train\\water_bottle\\water_bottle_7_4_74.png\n",
      "Uploaded ../../RGBD_dataset\\train\\water_bottle\\water_bottle_7_4_74.png, 185993 files out of an estimated total of 186078\n",
      "Uploading ../../RGBD_dataset\\train\\water_bottle\\water_bottle_7_4_74_depth.png\n",
      "Uploaded ../../RGBD_dataset\\train\\water_bottle\\water_bottle_7_4_74_depth.png, 185994 files out of an estimated total of 186078\n",
      "Uploading ../../RGBD_dataset\\train\\water_bottle\\water_bottle_7_4_74_mask.png\n",
      "Uploaded ../../RGBD_dataset\\train\\water_bottle\\water_bottle_7_4_74_mask.png, 185995 files out of an estimated total of 186078\n",
      "Uploading ../../RGBD_dataset\\train\\water_bottle\\water_bottle_7_4_75.png\n",
      "Uploaded ../../RGBD_dataset\\train\\water_bottle\\water_bottle_7_4_75.png, 185996 files out of an estimated total of 186078\n",
      "Uploading ../../RGBD_dataset\\train\\water_bottle\\water_bottle_7_4_75_depth.png\n",
      "Uploaded ../../RGBD_dataset\\train\\water_bottle\\water_bottle_7_4_75_depth.png, 185997 files out of an estimated total of 186078\n",
      "Uploading ../../RGBD_dataset\\train\\water_bottle\\water_bottle_7_4_75_mask.png\n",
      "Uploaded ../../RGBD_dataset\\train\\water_bottle\\water_bottle_7_4_75_mask.png, 185998 files out of an estimated total of 186078\n",
      "Uploading ../../RGBD_dataset\\train\\water_bottle\\water_bottle_7_4_76.png\n",
      "Uploaded ../../RGBD_dataset\\train\\water_bottle\\water_bottle_7_4_76.png, 185999 files out of an estimated total of 186078\n",
      "Uploading ../../RGBD_dataset\\train\\water_bottle\\water_bottle_7_4_76_depth.png\n",
      "Uploaded ../../RGBD_dataset\\train\\water_bottle\\water_bottle_7_4_76_depth.png, 186000 files out of an estimated total of 186078\n",
      "Uploading ../../RGBD_dataset\\train\\water_bottle\\water_bottle_7_4_76_mask.png\n",
      "Uploaded ../../RGBD_dataset\\train\\water_bottle\\water_bottle_7_4_76_mask.png, 186001 files out of an estimated total of 186078\n",
      "Uploading ../../RGBD_dataset\\train\\water_bottle\\water_bottle_7_4_77.png\n",
      "Uploaded ../../RGBD_dataset\\train\\water_bottle\\water_bottle_7_4_77.png, 186002 files out of an estimated total of 186078\n",
      "Uploading ../../RGBD_dataset\\train\\water_bottle\\water_bottle_7_4_77_depth.png\n",
      "Uploaded ../../RGBD_dataset\\train\\water_bottle\\water_bottle_7_4_77_depth.png, 186003 files out of an estimated total of 186078\n",
      "Uploading ../../RGBD_dataset\\train\\water_bottle\\water_bottle_7_4_77_mask.png\n",
      "Uploaded ../../RGBD_dataset\\train\\water_bottle\\water_bottle_7_4_77_mask.png, 186004 files out of an estimated total of 186078\n",
      "Uploading ../../RGBD_dataset\\train\\water_bottle\\water_bottle_7_4_78.png\n",
      "Uploaded ../../RGBD_dataset\\train\\water_bottle\\water_bottle_7_4_78.png, 186005 files out of an estimated total of 186078\n",
      "Uploading ../../RGBD_dataset\\train\\water_bottle\\water_bottle_7_4_78_depth.png\n",
      "Uploaded ../../RGBD_dataset\\train\\water_bottle\\water_bottle_7_4_78_depth.png, 186006 files out of an estimated total of 186078\n",
      "Uploading ../../RGBD_dataset\\train\\water_bottle\\water_bottle_7_4_78_mask.png\n",
      "Uploaded ../../RGBD_dataset\\train\\water_bottle\\water_bottle_7_4_78_mask.png, 186007 files out of an estimated total of 186078\n",
      "Uploading ../../RGBD_dataset\\train\\water_bottle\\water_bottle_7_4_79.png\n",
      "Uploaded ../../RGBD_dataset\\train\\water_bottle\\water_bottle_7_4_79.png, 186008 files out of an estimated total of 186078\n",
      "Uploading ../../RGBD_dataset\\train\\water_bottle\\water_bottle_7_4_79_depth.png\n",
      "Uploaded ../../RGBD_dataset\\train\\water_bottle\\water_bottle_7_4_79_depth.png, 186009 files out of an estimated total of 186078\n",
      "Uploading ../../RGBD_dataset\\train\\water_bottle\\water_bottle_7_4_79_mask.png\n",
      "Uploaded ../../RGBD_dataset\\train\\water_bottle\\water_bottle_7_4_79_mask.png, 186010 files out of an estimated total of 186078\n",
      "Uploading ../../RGBD_dataset\\train\\water_bottle\\water_bottle_7_4_7_depth.png\n",
      "Uploaded ../../RGBD_dataset\\train\\water_bottle\\water_bottle_7_4_7_depth.png, 186011 files out of an estimated total of 186078\n",
      "Uploading ../../RGBD_dataset\\train\\water_bottle\\water_bottle_7_4_7_mask.png\n",
      "Uploaded ../../RGBD_dataset\\train\\water_bottle\\water_bottle_7_4_7_mask.png, 186012 files out of an estimated total of 186078\n",
      "Uploading ../../RGBD_dataset\\train\\water_bottle\\water_bottle_7_4_8.png\n",
      "Uploaded ../../RGBD_dataset\\train\\water_bottle\\water_bottle_7_4_8.png, 186013 files out of an estimated total of 186078\n",
      "Uploading ../../RGBD_dataset\\train\\water_bottle\\water_bottle_7_4_80.png\n",
      "Uploaded ../../RGBD_dataset\\train\\water_bottle\\water_bottle_7_4_80.png, 186014 files out of an estimated total of 186078\n",
      "Uploading ../../RGBD_dataset\\train\\water_bottle\\water_bottle_7_4_80_depth.png\n",
      "Uploaded ../../RGBD_dataset\\train\\water_bottle\\water_bottle_7_4_80_depth.png, 186015 files out of an estimated total of 186078\n",
      "Uploading ../../RGBD_dataset\\train\\water_bottle\\water_bottle_7_4_80_mask.png\n",
      "Uploaded ../../RGBD_dataset\\train\\water_bottle\\water_bottle_7_4_80_mask.png, 186016 files out of an estimated total of 186078\n",
      "Uploading ../../RGBD_dataset\\train\\water_bottle\\water_bottle_7_4_81.png\n",
      "Uploaded ../../RGBD_dataset\\train\\water_bottle\\water_bottle_7_4_81.png, 186017 files out of an estimated total of 186078\n",
      "Uploading ../../RGBD_dataset\\train\\water_bottle\\water_bottle_7_4_81_depth.png\n",
      "Uploaded ../../RGBD_dataset\\train\\water_bottle\\water_bottle_7_4_81_depth.png, 186018 files out of an estimated total of 186078\n",
      "Uploading ../../RGBD_dataset\\train\\water_bottle\\water_bottle_7_4_81_mask.png\n",
      "Uploaded ../../RGBD_dataset\\train\\water_bottle\\water_bottle_7_4_81_mask.png, 186019 files out of an estimated total of 186078\n",
      "Uploading ../../RGBD_dataset\\train\\water_bottle\\water_bottle_7_4_82.png\n",
      "Uploaded ../../RGBD_dataset\\train\\water_bottle\\water_bottle_7_4_82.png, 186020 files out of an estimated total of 186078\n",
      "Uploading ../../RGBD_dataset\\train\\water_bottle\\water_bottle_7_4_82_depth.png\n",
      "Uploaded ../../RGBD_dataset\\train\\water_bottle\\water_bottle_7_4_82_depth.png, 186021 files out of an estimated total of 186078\n",
      "Uploading ../../RGBD_dataset\\train\\water_bottle\\water_bottle_7_4_82_mask.png\n",
      "Uploaded ../../RGBD_dataset\\train\\water_bottle\\water_bottle_7_4_82_mask.png, 186022 files out of an estimated total of 186078\n",
      "Uploading ../../RGBD_dataset\\train\\water_bottle\\water_bottle_7_4_83.png\n",
      "Uploaded ../../RGBD_dataset\\train\\water_bottle\\water_bottle_7_4_83.png, 186023 files out of an estimated total of 186078\n",
      "Uploading ../../RGBD_dataset\\train\\water_bottle\\water_bottle_7_4_83_depth.png\n",
      "Uploaded ../../RGBD_dataset\\train\\water_bottle\\water_bottle_7_4_83_depth.png, 186024 files out of an estimated total of 186078\n",
      "Uploading ../../RGBD_dataset\\train\\water_bottle\\water_bottle_7_4_83_mask.png\n",
      "Uploaded ../../RGBD_dataset\\train\\water_bottle\\water_bottle_7_4_83_mask.png, 186025 files out of an estimated total of 186078\n",
      "Uploading ../../RGBD_dataset\\train\\water_bottle\\water_bottle_7_4_84.png\n",
      "Uploaded ../../RGBD_dataset\\train\\water_bottle\\water_bottle_7_4_84.png, 186026 files out of an estimated total of 186078\n",
      "Uploading ../../RGBD_dataset\\train\\water_bottle\\water_bottle_7_4_84_depth.png\n",
      "Uploaded ../../RGBD_dataset\\train\\water_bottle\\water_bottle_7_4_84_depth.png, 186027 files out of an estimated total of 186078\n",
      "Uploading ../../RGBD_dataset\\train\\water_bottle\\water_bottle_7_4_84_mask.png\n",
      "Uploaded ../../RGBD_dataset\\train\\water_bottle\\water_bottle_7_4_84_mask.png, 186028 files out of an estimated total of 186078\n",
      "Uploading ../../RGBD_dataset\\train\\water_bottle\\water_bottle_7_4_85.png\n",
      "Uploaded ../../RGBD_dataset\\train\\water_bottle\\water_bottle_7_4_85.png, 186029 files out of an estimated total of 186078\n",
      "Uploading ../../RGBD_dataset\\train\\water_bottle\\water_bottle_7_4_85_depth.png\n",
      "Uploaded ../../RGBD_dataset\\train\\water_bottle\\water_bottle_7_4_85_depth.png, 186030 files out of an estimated total of 186078\n",
      "Uploading ../../RGBD_dataset\\train\\water_bottle\\water_bottle_7_4_85_mask.png\n",
      "Uploaded ../../RGBD_dataset\\train\\water_bottle\\water_bottle_7_4_85_mask.png, 186031 files out of an estimated total of 186078\n",
      "Uploading ../../RGBD_dataset\\train\\water_bottle\\water_bottle_7_4_86.png\n",
      "Uploaded ../../RGBD_dataset\\train\\water_bottle\\water_bottle_7_4_86.png, 186032 files out of an estimated total of 186078\n",
      "Uploading ../../RGBD_dataset\\train\\water_bottle\\water_bottle_7_4_86_depth.png\n",
      "Uploaded ../../RGBD_dataset\\train\\water_bottle\\water_bottle_7_4_86_depth.png, 186033 files out of an estimated total of 186078\n",
      "Uploading ../../RGBD_dataset\\train\\water_bottle\\water_bottle_7_4_86_mask.png\n",
      "Uploaded ../../RGBD_dataset\\train\\water_bottle\\water_bottle_7_4_86_mask.png, 186034 files out of an estimated total of 186078\n",
      "Uploading ../../RGBD_dataset\\train\\water_bottle\\water_bottle_7_4_87.png\n",
      "Uploaded ../../RGBD_dataset\\train\\water_bottle\\water_bottle_7_4_87.png, 186035 files out of an estimated total of 186078\n",
      "Uploading ../../RGBD_dataset\\train\\water_bottle\\water_bottle_7_4_87_depth.png\n",
      "Uploaded ../../RGBD_dataset\\train\\water_bottle\\water_bottle_7_4_87_depth.png, 186036 files out of an estimated total of 186078\n",
      "Uploading ../../RGBD_dataset\\train\\water_bottle\\water_bottle_7_4_87_mask.png\n",
      "Uploaded ../../RGBD_dataset\\train\\water_bottle\\water_bottle_7_4_87_mask.png, 186037 files out of an estimated total of 186078\n",
      "Uploading ../../RGBD_dataset\\train\\water_bottle\\water_bottle_7_4_88.png\n",
      "Uploaded ../../RGBD_dataset\\train\\water_bottle\\water_bottle_7_4_88.png, 186038 files out of an estimated total of 186078\n",
      "Uploading ../../RGBD_dataset\\train\\water_bottle\\water_bottle_7_4_88_depth.png\n",
      "Uploaded ../../RGBD_dataset\\train\\water_bottle\\water_bottle_7_4_88_depth.png, 186039 files out of an estimated total of 186078\n",
      "Uploading ../../RGBD_dataset\\train\\water_bottle\\water_bottle_7_4_88_mask.png\n",
      "Uploaded ../../RGBD_dataset\\train\\water_bottle\\water_bottle_7_4_88_mask.png, 186040 files out of an estimated total of 186078\n",
      "Uploading ../../RGBD_dataset\\train\\water_bottle\\water_bottle_7_4_89.png\n",
      "Uploaded ../../RGBD_dataset\\train\\water_bottle\\water_bottle_7_4_89.png, 186041 files out of an estimated total of 186078\n",
      "Uploading ../../RGBD_dataset\\train\\water_bottle\\water_bottle_7_4_89_depth.png\n",
      "Uploaded ../../RGBD_dataset\\train\\water_bottle\\water_bottle_7_4_89_depth.png, 186042 files out of an estimated total of 186078\n",
      "Uploading ../../RGBD_dataset\\train\\water_bottle\\water_bottle_7_4_89_mask.png\n",
      "Uploaded ../../RGBD_dataset\\train\\water_bottle\\water_bottle_7_4_89_mask.png, 186043 files out of an estimated total of 186078\n",
      "Uploading ../../RGBD_dataset\\train\\water_bottle\\water_bottle_7_4_8_depth.png\n",
      "Uploaded ../../RGBD_dataset\\train\\water_bottle\\water_bottle_7_4_8_depth.png, 186044 files out of an estimated total of 186078\n",
      "Uploading ../../RGBD_dataset\\train\\water_bottle\\water_bottle_7_4_8_mask.png\n",
      "Uploaded ../../RGBD_dataset\\train\\water_bottle\\water_bottle_7_4_8_mask.png, 186045 files out of an estimated total of 186078\n",
      "Uploading ../../RGBD_dataset\\train\\water_bottle\\water_bottle_7_4_9.png\n",
      "Uploaded ../../RGBD_dataset\\train\\water_bottle\\water_bottle_7_4_9.png, 186046 files out of an estimated total of 186078\n",
      "Uploading ../../RGBD_dataset\\train\\water_bottle\\water_bottle_7_4_90.png\n",
      "Uploaded ../../RGBD_dataset\\train\\water_bottle\\water_bottle_7_4_90.png, 186047 files out of an estimated total of 186078\n",
      "Uploading ../../RGBD_dataset\\train\\water_bottle\\water_bottle_7_4_90_depth.png\n",
      "Uploaded ../../RGBD_dataset\\train\\water_bottle\\water_bottle_7_4_90_depth.png, 186048 files out of an estimated total of 186078\n",
      "Uploading ../../RGBD_dataset\\train\\water_bottle\\water_bottle_7_4_90_mask.png\n",
      "Uploaded ../../RGBD_dataset\\train\\water_bottle\\water_bottle_7_4_90_mask.png, 186049 files out of an estimated total of 186078\n",
      "Uploading ../../RGBD_dataset\\train\\water_bottle\\water_bottle_7_4_91.png\n",
      "Uploaded ../../RGBD_dataset\\train\\water_bottle\\water_bottle_7_4_91.png, 186050 files out of an estimated total of 186078\n",
      "Uploading ../../RGBD_dataset\\train\\water_bottle\\water_bottle_7_4_91_depth.png\n",
      "Uploaded ../../RGBD_dataset\\train\\water_bottle\\water_bottle_7_4_91_depth.png, 186051 files out of an estimated total of 186078\n",
      "Uploading ../../RGBD_dataset\\train\\water_bottle\\water_bottle_7_4_91_mask.png\n",
      "Uploaded ../../RGBD_dataset\\train\\water_bottle\\water_bottle_7_4_91_mask.png, 186052 files out of an estimated total of 186078\n",
      "Uploading ../../RGBD_dataset\\train\\water_bottle\\water_bottle_7_4_92.png\n",
      "Uploaded ../../RGBD_dataset\\train\\water_bottle\\water_bottle_7_4_92.png, 186053 files out of an estimated total of 186078\n",
      "Uploading ../../RGBD_dataset\\train\\water_bottle\\water_bottle_7_4_92_depth.png\n",
      "Uploaded ../../RGBD_dataset\\train\\water_bottle\\water_bottle_7_4_92_depth.png, 186054 files out of an estimated total of 186078\n",
      "Uploading ../../RGBD_dataset\\train\\water_bottle\\water_bottle_7_4_92_mask.png\n",
      "Uploaded ../../RGBD_dataset\\train\\water_bottle\\water_bottle_7_4_92_mask.png, 186055 files out of an estimated total of 186078\n",
      "Uploading ../../RGBD_dataset\\train\\water_bottle\\water_bottle_7_4_93.png\n",
      "Uploaded ../../RGBD_dataset\\train\\water_bottle\\water_bottle_7_4_93.png, 186056 files out of an estimated total of 186078\n",
      "Uploading ../../RGBD_dataset\\train\\water_bottle\\water_bottle_7_4_93_depth.png\n",
      "Uploaded ../../RGBD_dataset\\train\\water_bottle\\water_bottle_7_4_93_depth.png, 186057 files out of an estimated total of 186078\n",
      "Uploading ../../RGBD_dataset\\train\\water_bottle\\water_bottle_7_4_93_mask.png\n",
      "Uploaded ../../RGBD_dataset\\train\\water_bottle\\water_bottle_7_4_93_mask.png, 186058 files out of an estimated total of 186078\n",
      "Uploading ../../RGBD_dataset\\train\\water_bottle\\water_bottle_7_4_94.png\n",
      "Uploaded ../../RGBD_dataset\\train\\water_bottle\\water_bottle_7_4_94.png, 186059 files out of an estimated total of 186078\n",
      "Uploading ../../RGBD_dataset\\train\\water_bottle\\water_bottle_7_4_94_depth.png\n",
      "Uploaded ../../RGBD_dataset\\train\\water_bottle\\water_bottle_7_4_94_depth.png, 186060 files out of an estimated total of 186078\n",
      "Uploading ../../RGBD_dataset\\train\\water_bottle\\water_bottle_7_4_94_mask.png\n",
      "Uploaded ../../RGBD_dataset\\train\\water_bottle\\water_bottle_7_4_94_mask.png, 186061 files out of an estimated total of 186078\n",
      "Uploading ../../RGBD_dataset\\train\\water_bottle\\water_bottle_7_4_95.png\n",
      "Uploaded ../../RGBD_dataset\\train\\water_bottle\\water_bottle_7_4_95.png, 186062 files out of an estimated total of 186078\n",
      "Uploading ../../RGBD_dataset\\train\\water_bottle\\water_bottle_7_4_95_depth.png\n",
      "Uploaded ../../RGBD_dataset\\train\\water_bottle\\water_bottle_7_4_95_depth.png, 186063 files out of an estimated total of 186078\n",
      "Uploading ../../RGBD_dataset\\train\\water_bottle\\water_bottle_7_4_95_mask.png\n",
      "Uploaded ../../RGBD_dataset\\train\\water_bottle\\water_bottle_7_4_95_mask.png, 186064 files out of an estimated total of 186078\n",
      "Uploading ../../RGBD_dataset\\train\\water_bottle\\water_bottle_7_4_96.png\n",
      "Uploaded ../../RGBD_dataset\\train\\water_bottle\\water_bottle_7_4_96.png, 186065 files out of an estimated total of 186078\n",
      "Uploading ../../RGBD_dataset\\train\\water_bottle\\water_bottle_7_4_96_depth.png\n",
      "Uploaded ../../RGBD_dataset\\train\\water_bottle\\water_bottle_7_4_96_depth.png, 186066 files out of an estimated total of 186078\n",
      "Uploading ../../RGBD_dataset\\train\\water_bottle\\water_bottle_7_4_96_mask.png\n",
      "Uploaded ../../RGBD_dataset\\train\\water_bottle\\water_bottle_7_4_96_mask.png, 186067 files out of an estimated total of 186078\n",
      "Uploading ../../RGBD_dataset\\train\\water_bottle\\water_bottle_7_4_97.png\n",
      "Uploaded ../../RGBD_dataset\\train\\water_bottle\\water_bottle_7_4_97.png, 186068 files out of an estimated total of 186078\n",
      "Uploading ../../RGBD_dataset\\train\\water_bottle\\water_bottle_7_4_97_depth.png\n",
      "Uploaded ../../RGBD_dataset\\train\\water_bottle\\water_bottle_7_4_97_depth.png, 186069 files out of an estimated total of 186078\n",
      "Uploading ../../RGBD_dataset\\train\\water_bottle\\water_bottle_7_4_97_mask.png\n",
      "Uploaded ../../RGBD_dataset\\train\\water_bottle\\water_bottle_7_4_97_mask.png, 186070 files out of an estimated total of 186078\n",
      "Uploading ../../RGBD_dataset\\train\\water_bottle\\water_bottle_7_4_98.png\n",
      "Uploaded ../../RGBD_dataset\\train\\water_bottle\\water_bottle_7_4_98.png, 186071 files out of an estimated total of 186078\n",
      "Uploading ../../RGBD_dataset\\train\\water_bottle\\water_bottle_7_4_98_depth.png\n",
      "Uploaded ../../RGBD_dataset\\train\\water_bottle\\water_bottle_7_4_98_depth.png, 186072 files out of an estimated total of 186078\n",
      "Uploading ../../RGBD_dataset\\train\\water_bottle\\water_bottle_7_4_98_mask.png\n",
      "Uploaded ../../RGBD_dataset\\train\\water_bottle\\water_bottle_7_4_98_mask.png, 186073 files out of an estimated total of 186078\n",
      "Uploading ../../RGBD_dataset\\train\\water_bottle\\water_bottle_7_4_99.png\n",
      "Uploaded ../../RGBD_dataset\\train\\water_bottle\\water_bottle_7_4_99.png, 186074 files out of an estimated total of 186078\n",
      "Uploading ../../RGBD_dataset\\train\\water_bottle\\water_bottle_7_4_99_depth.png\n",
      "Uploaded ../../RGBD_dataset\\train\\water_bottle\\water_bottle_7_4_99_depth.png, 186075 files out of an estimated total of 186078\n",
      "Uploading ../../RGBD_dataset\\train\\water_bottle\\water_bottle_7_4_99_mask.png\n",
      "Uploaded ../../RGBD_dataset\\train\\water_bottle\\water_bottle_7_4_99_mask.png, 186076 files out of an estimated total of 186078\n",
      "Uploading ../../RGBD_dataset\\train\\water_bottle\\water_bottle_7_4_9_depth.png\n",
      "Uploaded ../../RGBD_dataset\\train\\water_bottle\\water_bottle_7_4_9_depth.png, 186077 files out of an estimated total of 186078\n",
      "Uploading ../../RGBD_dataset\\train\\water_bottle\\water_bottle_7_4_9_mask.png\n",
      "Uploaded ../../RGBD_dataset\\train\\water_bottle\\water_bottle_7_4_9_mask.png, 186078 files out of an estimated total of 186078\n",
      "Uploaded 186078 files\n"
     ]
    },
    {
     "output_type": "execute_result",
     "data": {
      "text/plain": [
       "$AZUREML_DATAREFERENCE_dce5a089aea046a6bdb695a449391c03"
      ]
     },
     "metadata": {},
     "execution_count": 7
    }
   ],
   "source": [
    "# upload dataset to azure\n",
    "datastore = ws.get_default_datastore()\n",
    "src_dir = '../../RGBD_dataset'\n",
    "datastore.upload(src_dir=src_dir,\n",
    "                 target_path='datasets/rgbd_dataset',\n",
    "                 overwrite=False, show_progress=True)\n"
   ]
  },
  {
   "cell_type": "code",
   "execution_count": 8,
   "metadata": {},
   "outputs": [
    {
     "output_type": "stream",
     "name": "stdout",
     "text": [
      "Uploading an estimated of 4 files\n",
      "Uploading ../../models\\bit_m-r50x1_1\\variables\\variables.index\n",
      "Uploaded ../../models\\bit_m-r50x1_1\\variables\\variables.index, 1 files out of an estimated total of 4\n",
      "Uploading ../../models\\bit_m-r50x1_1\\saved_model.pb\n",
      "Uploaded ../../models\\bit_m-r50x1_1\\saved_model.pb, 2 files out of an estimated total of 4\n",
      "Uploading ../../models\\bit_m-r50x1_1\\variables\\variables.data-00000-of-00001\n",
      "Uploaded ../../models\\bit_m-r50x1_1\\variables\\variables.data-00000-of-00001, 3 files out of an estimated total of 4\n",
      "Uploading ../../models\\bit_m-r50x1_1.tar.gz\n",
      "Uploaded ../../models\\bit_m-r50x1_1.tar.gz, 4 files out of an estimated total of 4\n",
      "Uploaded 4 files\n"
     ]
    },
    {
     "output_type": "execute_result",
     "data": {
      "text/plain": [
       "$AZUREML_DATAREFERENCE_c641b4b585534597a445ed1b847a60e7"
      ]
     },
     "metadata": {},
     "execution_count": 8
    }
   ],
   "source": [
    "# upload embedding models\n",
    "src_dir = '../../models'\n",
    "datastore.upload(src_dir=src_dir,\n",
    "                 target_path='embedding_models',\n",
    "                 overwrite=True)"
   ]
  }
 ]
}