{
 "metadata": {
  "language_info": {
   "codemirror_mode": {
    "name": "ipython",
    "version": 3
   },
   "file_extension": ".py",
   "mimetype": "text/x-python",
   "name": "python",
   "nbconvert_exporter": "python",
   "pygments_lexer": "ipython3",
   "version": "3.7.0-final"
  },
  "orig_nbformat": 2,
  "kernelspec": {
   "name": "python3",
   "display_name": "Python 3"
  }
 },
 "nbformat": 4,
 "nbformat_minor": 2,
 "cells": [
  {
   "source": [
    "# Creating RGB Dataset from RGB-D dataset directory for Transfer Learning"
   ],
   "cell_type": "markdown",
   "metadata": {}
  },
  {
   "source": [
    "Collects RGB images from RGB-D dataset into separate directory with subdirectories denoting label. Used to build tf dataset for transfer learning"
   ],
   "cell_type": "markdown",
   "metadata": {}
  },
  {
   "source": [
    "## Create RGB dataset directory"
   ],
   "cell_type": "markdown",
   "metadata": {}
  },
  {
   "cell_type": "code",
   "execution_count": 3,
   "metadata": {},
   "outputs": [],
   "source": [
    "import os\n",
    "import pathlib\n",
    "import shutil"
   ]
  },
  {
   "cell_type": "code",
   "execution_count": 4,
   "metadata": {},
   "outputs": [],
   "source": [
    "rgbd_data_path = 'full_data/extracted/rgbd-dataset'\n",
    "rgb_out_path = 'RGB_dataset'"
   ]
  },
  {
   "cell_type": "code",
   "execution_count": 80,
   "metadata": {},
   "outputs": [],
   "source": [
    "non_rgb = ['mask', 'depth']\n",
    "def is_rgb_im(file):\n",
    "    is_img = file.suffix == '.png'\n",
    "    is_rgb = not any([x in file.name for x in non_rgb])\n",
    "\n",
    "    return is_img and is_rgb"
   ]
  },
  {
   "cell_type": "code",
   "execution_count": 66,
   "metadata": {},
   "outputs": [],
   "source": [
    "def get_files_in_dir(path):\n",
    "    files = []\n",
    "    for entry in path.iterdir():\n",
    "        if entry.is_file(): \n",
    "            files.append(entry)\n",
    "        elif entry.is_dir(): \n",
    "            files += get_files_in_dir(entry)\n",
    "    \n",
    "    return files"
   ]
  },
  {
   "cell_type": "code",
   "execution_count": 90,
   "metadata": {},
   "outputs": [],
   "source": [
    "for label in labels:\n",
    "\n",
    "    # make directory for label if one doesn't exist\n",
    "    if not os.path.isdir(f'{rgb_out_path}/{label}'): \n",
    "        os.mkdir(f'{rgb_out_path}/{label}')\n",
    "    \n",
    "    # find all rgb image files for this label in the RGB-D dataset directory\n",
    "    path = pathlib.Path(f'{rgbd_data_path}/{label}')\n",
    "    rgb_imgs = [file for file in get_files_in_dir(path) if is_rgb_im(file)]\n",
    "\n",
    "    # copy rgb image files to RGB dataset directory under their label subdirectory\n",
    "    for rgb_img in rgb_imgs:\n",
    "        shutil.copy(rgb_img, f'{rgb_out_path}/{label}')"
   ]
  },
  {
   "source": [
    "## Create tensorflow dataset"
   ],
   "cell_type": "markdown",
   "metadata": {}
  },
  {
   "cell_type": "code",
   "execution_count": 1,
   "metadata": {},
   "outputs": [],
   "source": [
    "import tensorflow as tf"
   ]
  },
  {
   "cell_type": "code",
   "execution_count": 5,
   "metadata": {},
   "outputs": [
    {
     "output_type": "stream",
     "name": "stdout",
     "text": [
      "Found 5924 files belonging to 2 classes.\n"
     ]
    }
   ],
   "source": [
    "IM_SIZE = (640, 480)\n",
    "rgb_dataset = tf.keras.preprocessing.image_dataset_from_directory(rgb_out_path, labels='inferred', label_mode='categorical',                                                                                image_size=IM_SIZE, batch_size=32, shuffle=True)"
   ]
  },
  {
   "cell_type": "code",
   "execution_count": 31,
   "metadata": {},
   "outputs": [
    {
     "output_type": "execute_result",
     "data": {
      "text/plain": [
       "['apple', 'banana']"
      ]
     },
     "metadata": {},
     "execution_count": 31
    }
   ],
   "source": [
    "rgb_dataset.class_names"
   ]
  },
  {
   "cell_type": "code",
   "execution_count": 32,
   "metadata": {},
   "outputs": [
    {
     "output_type": "execute_result",
     "data": {
      "text/plain": [
       "(TensorSpec(shape=(None, 640, 480, 3), dtype=tf.float32, name=None),\n",
       " TensorSpec(shape=(None, 2), dtype=tf.float32, name=None))"
      ]
     },
     "metadata": {},
     "execution_count": 32
    }
   ],
   "source": [
    "rgb_dataset.element_spec"
   ]
  }
 ]
}