{
 "metadata": {
  "language_info": {
   "codemirror_mode": {
    "name": "ipython",
    "version": 3
   },
   "file_extension": ".py",
   "mimetype": "text/x-python",
   "name": "python",
   "nbconvert_exporter": "python",
   "pygments_lexer": "ipython3",
   "version": "3.7.0-final"
  },
  "orig_nbformat": 2,
  "kernelspec": {
   "name": "python3",
   "display_name": "Python 3.7.0 64-bit ('3dcv': conda)",
   "metadata": {
    "interpreter": {
     "hash": "5bbec2c175cdc645bdcaa7c23b1994df206e8fec5e7a0d34dbfaad9347bbf153"
    }
   }
  }
 },
 "nbformat": 4,
 "nbformat_minor": 2,
 "cells": [
  {
   "source": [
    "# Creating RGB Dataset from RGB-D dataset directory for Transfer Learning"
   ],
   "cell_type": "markdown",
   "metadata": {}
  },
  {
   "source": [
    "Collects RGB images from RGB-D dataset into separate directory with subdirectories denoting label. Used to build tf dataset for transfer learning"
   ],
   "cell_type": "markdown",
   "metadata": {}
  },
  {
   "source": [
    "## Create RGB dataset directory"
   ],
   "cell_type": "markdown",
   "metadata": {}
  },
  {
   "cell_type": "code",
   "execution_count": 1,
   "metadata": {},
   "outputs": [],
   "source": [
    "import os\n",
    "import pathlib\n",
    "\n",
    "import utils\n",
    "\n",
    "from tqdm import tqdm\n",
    "\n",
    "import cv2 as cv\n",
    "import matplotlib.pyplot as plt"
   ]
  },
  {
   "cell_type": "code",
   "execution_count": 2,
   "metadata": {},
   "outputs": [],
   "source": [
    "rgbd_data_path = 'C:/Users/awnya/Documents/Projects/RGBD Object Classification/full_data/extracted/rgbd-dataset'\n",
    "rgb_out_path = 'C:/Users/awnya/Documents/Projects/RGBD Object Classification/RGB_dataset'"
   ]
  },
  {
   "cell_type": "code",
   "execution_count": 3,
   "metadata": {},
   "outputs": [],
   "source": [
    "non_rgb = ['mask', 'depth']\n",
    "def is_rgb_im(file):\n",
    "    is_img = file.suffix == '.png'\n",
    "    is_rgb = not any([x in file.name for x in non_rgb])\n",
    "\n",
    "    return is_img and is_rgb"
   ]
  },
  {
   "cell_type": "code",
   "execution_count": 4,
   "metadata": {},
   "outputs": [],
   "source": [
    "def get_files_in_dir(path):\n",
    "    '''gets list of all files in a directory given by a pathlib Path. (recursive)'''\n",
    "    files = []\n",
    "    for entry in path.iterdir():\n",
    "        if entry.is_file(): \n",
    "            files.append(entry)\n",
    "        elif entry.is_dir(): \n",
    "            files += get_files_in_dir(entry)\n",
    "    \n",
    "    return files"
   ]
  },
  {
   "cell_type": "code",
   "execution_count": 5,
   "metadata": {},
   "outputs": [
    {
     "output_type": "execute_result",
     "data": {
      "text/plain": [
       "{'apple': WindowsPath('C:/Users/awnya/Documents/Projects/RGBD Object Classification/full_data/extracted/rgbd-dataset/apple'),\n",
       " 'ball': WindowsPath('C:/Users/awnya/Documents/Projects/RGBD Object Classification/full_data/extracted/rgbd-dataset/ball'),\n",
       " 'banana': WindowsPath('C:/Users/awnya/Documents/Projects/RGBD Object Classification/full_data/extracted/rgbd-dataset/banana'),\n",
       " 'bell_pepper': WindowsPath('C:/Users/awnya/Documents/Projects/RGBD Object Classification/full_data/extracted/rgbd-dataset/bell_pepper'),\n",
       " 'binder': WindowsPath('C:/Users/awnya/Documents/Projects/RGBD Object Classification/full_data/extracted/rgbd-dataset/binder'),\n",
       " 'bowl': WindowsPath('C:/Users/awnya/Documents/Projects/RGBD Object Classification/full_data/extracted/rgbd-dataset/bowl'),\n",
       " 'calculator': WindowsPath('C:/Users/awnya/Documents/Projects/RGBD Object Classification/full_data/extracted/rgbd-dataset/calculator'),\n",
       " 'camera': WindowsPath('C:/Users/awnya/Documents/Projects/RGBD Object Classification/full_data/extracted/rgbd-dataset/camera'),\n",
       " 'cap': WindowsPath('C:/Users/awnya/Documents/Projects/RGBD Object Classification/full_data/extracted/rgbd-dataset/cap'),\n",
       " 'cell_phone': WindowsPath('C:/Users/awnya/Documents/Projects/RGBD Object Classification/full_data/extracted/rgbd-dataset/cell_phone'),\n",
       " 'cereal_box': WindowsPath('C:/Users/awnya/Documents/Projects/RGBD Object Classification/full_data/extracted/rgbd-dataset/cereal_box'),\n",
       " 'coffee_mug': WindowsPath('C:/Users/awnya/Documents/Projects/RGBD Object Classification/full_data/extracted/rgbd-dataset/coffee_mug'),\n",
       " 'comb': WindowsPath('C:/Users/awnya/Documents/Projects/RGBD Object Classification/full_data/extracted/rgbd-dataset/comb'),\n",
       " 'dry_battery': WindowsPath('C:/Users/awnya/Documents/Projects/RGBD Object Classification/full_data/extracted/rgbd-dataset/dry_battery'),\n",
       " 'flashlight': WindowsPath('C:/Users/awnya/Documents/Projects/RGBD Object Classification/full_data/extracted/rgbd-dataset/flashlight'),\n",
       " 'food_bag': WindowsPath('C:/Users/awnya/Documents/Projects/RGBD Object Classification/full_data/extracted/rgbd-dataset/food_bag'),\n",
       " 'food_box': WindowsPath('C:/Users/awnya/Documents/Projects/RGBD Object Classification/full_data/extracted/rgbd-dataset/food_box'),\n",
       " 'food_can': WindowsPath('C:/Users/awnya/Documents/Projects/RGBD Object Classification/full_data/extracted/rgbd-dataset/food_can'),\n",
       " 'food_cup': WindowsPath('C:/Users/awnya/Documents/Projects/RGBD Object Classification/full_data/extracted/rgbd-dataset/food_cup'),\n",
       " 'food_jar': WindowsPath('C:/Users/awnya/Documents/Projects/RGBD Object Classification/full_data/extracted/rgbd-dataset/food_jar'),\n",
       " 'garlic': WindowsPath('C:/Users/awnya/Documents/Projects/RGBD Object Classification/full_data/extracted/rgbd-dataset/garlic'),\n",
       " 'glue_stick': WindowsPath('C:/Users/awnya/Documents/Projects/RGBD Object Classification/full_data/extracted/rgbd-dataset/glue_stick'),\n",
       " 'greens': WindowsPath('C:/Users/awnya/Documents/Projects/RGBD Object Classification/full_data/extracted/rgbd-dataset/greens'),\n",
       " 'hand_towel': WindowsPath('C:/Users/awnya/Documents/Projects/RGBD Object Classification/full_data/extracted/rgbd-dataset/hand_towel'),\n",
       " 'instant_noodles': WindowsPath('C:/Users/awnya/Documents/Projects/RGBD Object Classification/full_data/extracted/rgbd-dataset/instant_noodles'),\n",
       " 'keyboard': WindowsPath('C:/Users/awnya/Documents/Projects/RGBD Object Classification/full_data/extracted/rgbd-dataset/keyboard'),\n",
       " 'kleenex': WindowsPath('C:/Users/awnya/Documents/Projects/RGBD Object Classification/full_data/extracted/rgbd-dataset/kleenex'),\n",
       " 'lemon': WindowsPath('C:/Users/awnya/Documents/Projects/RGBD Object Classification/full_data/extracted/rgbd-dataset/lemon'),\n",
       " 'lightbulb': WindowsPath('C:/Users/awnya/Documents/Projects/RGBD Object Classification/full_data/extracted/rgbd-dataset/lightbulb'),\n",
       " 'lime': WindowsPath('C:/Users/awnya/Documents/Projects/RGBD Object Classification/full_data/extracted/rgbd-dataset/lime'),\n",
       " 'marker': WindowsPath('C:/Users/awnya/Documents/Projects/RGBD Object Classification/full_data/extracted/rgbd-dataset/marker'),\n",
       " 'mushroom': WindowsPath('C:/Users/awnya/Documents/Projects/RGBD Object Classification/full_data/extracted/rgbd-dataset/mushroom'),\n",
       " 'notebook': WindowsPath('C:/Users/awnya/Documents/Projects/RGBD Object Classification/full_data/extracted/rgbd-dataset/notebook'),\n",
       " 'onion': WindowsPath('C:/Users/awnya/Documents/Projects/RGBD Object Classification/full_data/extracted/rgbd-dataset/onion'),\n",
       " 'orange': WindowsPath('C:/Users/awnya/Documents/Projects/RGBD Object Classification/full_data/extracted/rgbd-dataset/orange'),\n",
       " 'peach': WindowsPath('C:/Users/awnya/Documents/Projects/RGBD Object Classification/full_data/extracted/rgbd-dataset/peach'),\n",
       " 'pear': WindowsPath('C:/Users/awnya/Documents/Projects/RGBD Object Classification/full_data/extracted/rgbd-dataset/pear'),\n",
       " 'pitcher': WindowsPath('C:/Users/awnya/Documents/Projects/RGBD Object Classification/full_data/extracted/rgbd-dataset/pitcher'),\n",
       " 'plate': WindowsPath('C:/Users/awnya/Documents/Projects/RGBD Object Classification/full_data/extracted/rgbd-dataset/plate'),\n",
       " 'pliers': WindowsPath('C:/Users/awnya/Documents/Projects/RGBD Object Classification/full_data/extracted/rgbd-dataset/pliers'),\n",
       " 'potato': WindowsPath('C:/Users/awnya/Documents/Projects/RGBD Object Classification/full_data/extracted/rgbd-dataset/potato'),\n",
       " 'rubber_eraser': WindowsPath('C:/Users/awnya/Documents/Projects/RGBD Object Classification/full_data/extracted/rgbd-dataset/rubber_eraser'),\n",
       " 'scissors': WindowsPath('C:/Users/awnya/Documents/Projects/RGBD Object Classification/full_data/extracted/rgbd-dataset/scissors'),\n",
       " 'shampoo': WindowsPath('C:/Users/awnya/Documents/Projects/RGBD Object Classification/full_data/extracted/rgbd-dataset/shampoo'),\n",
       " 'soda_can': WindowsPath('C:/Users/awnya/Documents/Projects/RGBD Object Classification/full_data/extracted/rgbd-dataset/soda_can'),\n",
       " 'sponge': WindowsPath('C:/Users/awnya/Documents/Projects/RGBD Object Classification/full_data/extracted/rgbd-dataset/sponge'),\n",
       " 'stapler': WindowsPath('C:/Users/awnya/Documents/Projects/RGBD Object Classification/full_data/extracted/rgbd-dataset/stapler'),\n",
       " 'tomato': WindowsPath('C:/Users/awnya/Documents/Projects/RGBD Object Classification/full_data/extracted/rgbd-dataset/tomato'),\n",
       " 'toothbrush': WindowsPath('C:/Users/awnya/Documents/Projects/RGBD Object Classification/full_data/extracted/rgbd-dataset/toothbrush'),\n",
       " 'toothpaste': WindowsPath('C:/Users/awnya/Documents/Projects/RGBD Object Classification/full_data/extracted/rgbd-dataset/toothpaste'),\n",
       " 'water_bottle': WindowsPath('C:/Users/awnya/Documents/Projects/RGBD Object Classification/full_data/extracted/rgbd-dataset/water_bottle')}"
      ]
     },
     "metadata": {},
     "execution_count": 5
    }
   ],
   "source": [
    "label_path = {dir_.name: dir_ for dir_ in pathlib.Path(rgbd_data_path).iterdir() if dir_.is_dir()}\n",
    "label_path"
   ]
  },
  {
   "cell_type": "code",
   "execution_count": 6,
   "metadata": {},
   "outputs": [],
   "source": [
    "crop_size_y, crop_size_x = 200, 200\n",
    "full_size_y, full_size_x, = (480, 640)\n",
    "x = (full_size_x - crop_size_x)//2\n",
    "y = (full_size_y - crop_size_y)//2\n",
    "\n",
    "def process_image(bgr_image):\n",
    "    # crop\n",
    "    processed_img = bgr_image[y:y+crop_size_y, x:x+crop_size_x]\n",
    "\n",
    "    return processed_img"
   ]
  },
  {
   "cell_type": "code",
   "execution_count": 7,
   "metadata": {},
   "outputs": [
    {
     "output_type": "stream",
     "name": "stderr",
     "text": [
      "100%|██████████| 51/51 [1:04:59<00:00, 76.47s/it]\n"
     ]
    }
   ],
   "source": [
    "for label, path in tqdm(label_path.items()):\n",
    "    \n",
    "    # partition one object for testing, and rest for training\n",
    "    subdirs = [obj for obj in path.iterdir() if obj.is_dir()]\n",
    "    train_dirs = subdirs[:-1]\n",
    "    test_dir = subdirs[-1]\n",
    "\n",
    "    # make train directory for label if one doesn't exist\n",
    "    if not os.path.isdir(f'{rgb_out_path}/train/{label}'): \n",
    "        os.mkdir(f'{rgb_out_path}/train/{label}')\n",
    "    \n",
    "    # get training rgb image files for this label in the RGB-D dataset directory\n",
    "    rgb_imgs_train = []\n",
    "    for sub_dir in train_dirs:\n",
    "        rgb_imgs_train += [file for file in get_files_in_dir(sub_dir) if is_rgb_im(file)]\n",
    "    \n",
    "    # process rgb image files and write to RGB dataset train directory under their label subdirectory\n",
    "    for rgb_img in rgb_imgs_train:\n",
    "        bgr_image = cv.imread(str(rgb_img), cv.IMREAD_UNCHANGED)\n",
    "        processed_img = process_image(bgr_image)\n",
    "        cv.imwrite(f'{rgb_out_path}/train/{label}/{rgb_img.name}', processed_img)\n",
    "    \n",
    "        rgb_imgs_train = []\n",
    "    \n",
    "\n",
    "    \n",
    "    # make test directory for label if one doesn't exist\n",
    "    if not os.path.isdir(f'{rgb_out_path}/test/{label}'): \n",
    "        os.mkdir(f'{rgb_out_path}/test/{label}')\n",
    "\n",
    "    # get test rgb image files for this label in the RGB-D dataset directory\n",
    "    rgb_imgs_test = [file for file in get_files_in_dir(test_dir) if is_rgb_im(file)]\n",
    "    \n",
    "    # process rgb image files and write to RGB dataset test directory under their label subdirectory\n",
    "    for rgb_img in rgb_imgs_test:\n",
    "        bgr_image = cv.imread(str(rgb_img), cv.IMREAD_UNCHANGED)\n",
    "        processed_img = process_image(bgr_image)\n",
    "        cv.imwrite(f'{rgb_out_path}/test/{label}/{rgb_img.name}', processed_img)"
   ]
  }
 ]
}