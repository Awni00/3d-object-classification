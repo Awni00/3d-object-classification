{
 "metadata": {
  "language_info": {
   "codemirror_mode": {
    "name": "ipython",
    "version": 3
   },
   "file_extension": ".py",
   "mimetype": "text/x-python",
   "name": "python",
   "nbconvert_exporter": "python",
   "pygments_lexer": "ipython3",
   "version": "3.8.5-final"
  },
  "orig_nbformat": 2,
  "kernelspec": {
   "name": "python3",
   "display_name": "Python 3"
  }
 },
 "nbformat": 4,
 "nbformat_minor": 2,
 "cells": [
  {
   "cell_type": "code",
   "execution_count": 1,
   "metadata": {},
   "outputs": [],
   "source": [
    "import os\n",
    "from os.path import join\n",
    "import shutil\n",
    "from tqdm import tqdm"
   ]
  },
  {
   "cell_type": "code",
   "execution_count": 2,
   "metadata": {},
   "outputs": [],
   "source": [
    "base_path = 'full_data'\n",
    "extract_path = 'full_data/extracted'"
   ]
  },
  {
   "cell_type": "code",
   "execution_count": 3,
   "metadata": {},
   "outputs": [],
   "source": [
    "archives = [join(base_path, f) for f in os.listdir(base_path) if  f.split('.')[-1]=='tar']"
   ]
  },
  {
   "cell_type": "code",
   "execution_count": 4,
   "metadata": {},
   "outputs": [
    {
     "output_type": "execute_result",
     "data": {
      "text/plain": [
       "['full_data\\\\apple_1.tar',\n",
       " 'full_data\\\\apple_2.tar',\n",
       " 'full_data\\\\apple_3.tar',\n",
       " 'full_data\\\\apple_4.tar',\n",
       " 'full_data\\\\apple_5.tar',\n",
       " 'full_data\\\\banana_1.tar',\n",
       " 'full_data\\\\banana_2.tar',\n",
       " 'full_data\\\\banana_3.tar',\n",
       " 'full_data\\\\banana_4.tar']"
      ]
     },
     "metadata": {},
     "execution_count": 4
    }
   ],
   "source": [
    "archives"
   ]
  },
  {
   "cell_type": "code",
   "execution_count": 5,
   "metadata": {},
   "outputs": [],
   "source": [
    "def extract_archives(archives, extract_path):\n",
    "    '''extracts each archive in archives into the extract_path. Only one extraction necessary :)'''\n",
    "    for archive in tqdm(archives):\n",
    "        shutil.unpack_archive(archive, extract_path, format='tar')"
   ]
  },
  {
   "cell_type": "code",
   "execution_count": 6,
   "metadata": {},
   "outputs": [
    {
     "output_type": "stream",
     "name": "stderr",
     "text": [
      "100%|██████████| 9/9 [01:50<00:00, 12.32s/it]\n"
     ]
    }
   ],
   "source": [
    "extract_archives(archives, extract_path)"
   ]
  }
 ]
}