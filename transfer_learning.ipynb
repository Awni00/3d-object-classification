{
  "nbformat": 4,
  "nbformat_minor": 0,
  "metadata": {
    "colab": {
      "name": "transfer_learning.ipynb",
      "provenance": []
    },
    "kernelspec": {
      "name": "python3",
      "display_name": "Python 3.7.0 64-bit ('3dcv': conda)",
      "metadata": {
        "interpreter": {
          "hash": "5bbec2c175cdc645bdcaa7c23b1994df206e8fec5e7a0d34dbfaad9347bbf153"
        }
      }
    }
  },
  "cells": [
    {
      "cell_type": "code",
      "metadata": {
        "id": "fcvOIptdiZR4"
      },
      "source": [
        "import tensorflow as tf\n",
        "import tensorflow_hub as hub\n",
        "\n",
        "import tensorflow_datasets as tfds\n",
        "\n",
        "import time\n",
        "\n",
        "from PIL import Image\n",
        "import requests\n",
        "from io import BytesIO\n",
        "\n",
        "import matplotlib.pyplot as plt\n",
        "import numpy as np\n",
        "\n",
        "import os\n",
        "import pathlib"
      ],
      "execution_count": 1,
      "outputs": []
    },
    {
      "cell_type": "code",
      "metadata": {
        "id": "pxNW3fARio1b"
      },
      "source": [
        "# Load feature vector extractor into KerasLayer\n",
        "# r50x1_loc = \"https://tfhub.dev/google/bit/m-r50x1/1\"\n",
        "r50x1_loc = \"models/bit_m-r50x1_1\"\n",
        "feat_vec_layer = hub.KerasLayer(r50x1_loc, name='feat_vec_embedding')"
      ],
      "execution_count": 2,
      "outputs": []
    },
    {
      "cell_type": "code",
      "metadata": {
        "id": "oblh_pZJjrWN"
      },
      "source": [
        "def preprocess_image(image):\n",
        "  image = np.array(image)\n",
        "  # reshape into shape [batch_size, height, width, num_channels]\n",
        "  img_reshaped = tf.reshape(image, [1, image.shape[0], image.shape[1], image.shape[2]])\n",
        "  # Use `convert_image_dtype` to convert to floats in the [0,1] range.\n",
        "  image = tf.image.convert_image_dtype(img_reshaped, tf.float32)  \n",
        "  return image\n",
        "\n",
        "def load_image_from_url(url):\n",
        "  \"\"\"Returns an image with shape [1, height, width, num_channels].\"\"\"\n",
        "  response = requests.get(url)\n",
        "  image = Image.open(BytesIO(response.content))\n",
        "  image = preprocess_image(image)\n",
        "  return image"
      ],
      "execution_count": 3,
      "outputs": []
    },
    {
      "cell_type": "code",
      "metadata": {
        "id": "0nq2qF1Ci0wc"
      },
      "source": [
        "# test feature vector\n",
        "\n",
        "# Load image\n",
        "img_url = \"https://p0.pikrepo.com/preview/853/907/close-up-photo-of-gray-elephant.jpg\"\n",
        "image = load_image_from_url(img_url)\n",
        "\n",
        "# Run model on image\n",
        "logits = feat_vec_layer(image)"
      ],
      "execution_count": 4,
      "outputs": []
    },
    {
      "cell_type": "code",
      "metadata": {
        "colab": {
          "base_uri": "https://localhost:8080/"
        },
        "id": "BsRxPuCFjxOe",
        "outputId": "44044ca0-4f05-4932-8bd4-c4299e3cb944"
      },
      "source": [
        "logits # 2048-dimensional feature vector"
      ],
      "execution_count": 5,
      "outputs": [
        {
          "output_type": "execute_result",
          "data": {
            "text/plain": [
              "<tf.Tensor: shape=(1, 2048), dtype=float32, numpy=\n",
              "array([[0.31866187, 0.        , 8.563894  , ..., 0.79412353, 0.53980786,\n",
              "        6.8815365 ]], dtype=float32)>"
            ]
          },
          "metadata": {},
          "execution_count": 5
        }
      ]
    },
    {
      "cell_type": "code",
      "execution_count": 6,
      "metadata": {},
      "outputs": [],
      "source": [
        "# model = tf.keras.Sequential([feat_vec_layer, tf.keras.layers.Dense(2, activation='softmax', kernel_initializer='zeros')])"
      ]
    },
    {
      "cell_type": "code",
      "metadata": {
        "id": "kTG-27noj1h1"
      },
      "source": [
        "# class RGB_model(tf.keras.Model):\n",
        "#   \"\"\"transfer learning model using feature vector and custom new head\"\"\"\n",
        "\n",
        "#   def __init__(self, num_classes, embedding_layer):\n",
        "#     super().__init__()\n",
        "\n",
        "#     self.num_classes = num_classes\n",
        "#     self.rescale = tf.keras.layers.experimental.preprocessing.Rescaling(1./255)\n",
        "#     self.embedding_layer = embedding_layer\n",
        "#     self.predict = tf.keras.layers.Dense(num_classes)\n",
        "  \n",
        "#   def call(self, images):\n",
        "#     rescaled = self.rescale(images)\n",
        "#     img_embedding = self.embedding_layer(rescaled)\n",
        "#     pred = self.predict(img_embedding)\n",
        "    \n",
        "#     return pred"
      ],
      "execution_count": 7,
      "outputs": []
    },
    {
      "cell_type": "code",
      "execution_count": 8,
      "metadata": {},
      "outputs": [],
      "source": [
        "from tensorflow.keras.layers import Input, Dense\n",
        "from tensorflow.keras.layers.experimental.preprocessing import Rescaling\n",
        "\n",
        "input_shape = [200, 200, 3]\n",
        "num_classes = 2\n",
        "input_image = Input(shape=input_shape, name='input_image')\n",
        "rescaled_image = Rescaling(1./255, name='normalize')(input_image)\n",
        "image_embedding = feat_vec_layer(rescaled_image)\n",
        "output = Dense(num_classes, activation='softmax', name='output')(image_embedding)\n",
        "\n",
        "\n",
        "rgb_model = tf.keras.Model(inputs=[input_image], outputs=[output])"
      ]
    },
    {
      "cell_type": "code",
      "execution_count": 9,
      "metadata": {},
      "outputs": [
        {
          "output_type": "stream",
          "name": "stdout",
          "text": [
            "Model: \"model\"\n_________________________________________________________________\nLayer (type)                 Output Shape              Param #   \n=================================================================\ninput_image (InputLayer)     [(None, 200, 200, 3)]     0         \n_________________________________________________________________\nnormalize (Rescaling)        (None, 200, 200, 3)       0         \n_________________________________________________________________\nfeat_vec_embedding (KerasLay (None, 2048)              23500352  \n_________________________________________________________________\noutput (Dense)               (None, 2)                 4098      \n=================================================================\nTotal params: 23,504,450\nTrainable params: 4,098\nNon-trainable params: 23,500,352\n_________________________________________________________________\n"
          ]
        }
      ],
      "source": [
        "rgb_model.summary()"
      ]
    },
    {
      "cell_type": "code",
      "execution_count": 10,
      "metadata": {},
      "outputs": [
        {
          "output_type": "execute_result",
          "data": {
            "image/png": "[encoded data removed]",
            "text/plain": [
              "<IPython.core.display.Image object>"
            ]
          },
          "metadata": {},
          "execution_count": 10
        }
      ],
      "source": [
        "tf.keras.utils.plot_model(rgb_model)"
      ]
    },
    {
      "cell_type": "code",
      "metadata": {
        "id": "2ln4TmyE2VmH"
      },
      "source": [
        "from tensorflow.keras.preprocessing import image_dataset_from_directory\n",
        "\n",
        "IM_SIZE = (200, 200)\n",
        "seed = np.random.randint(0, int(1e6))\n",
        "rgb_train_path = \"C:/Users/awnya/Documents/Projects/RGBD Object Classification/RGB_dataset/train\"\n",
        "rgb_dataset_train = image_dataset_from_directory(rgb_train_path, labels='inferred', label_mode='categorical', \n",
        "                                                                  image_size=IM_SIZE, batch_size=32, shuffle=True, \n",
        "                                                                  validation_split=0.05, subset='training', seed=seed)\n",
        "rgb_dataset_valid = image_dataset_from_directory(rgb_train_path, labels='inferred', label_mode='categorical', \n",
        "                                                                  image_size=IM_SIZE, batch_size=32, shuffle=True, \n",
        "                                                                  validation_split=0.05, subset='validation', seed=seed)\n",
        "                                                                  \n",
        "rgb_test_path = \"C:/Users/awnya/Documents/Projects/RGBD Object Classification/RGB_dataset/test\"\n",
        "rgb_dataset_test = image_dataset_from_directory(rgb_test_path, labels='inferred', label_mode='categorical', \n",
        "                                                                  image_size=IM_SIZE, batch_size=32, shuffle=False)"
      ],
      "execution_count": 11,
      "outputs": [
        {
          "output_type": "stream",
          "name": "stdout",
          "text": [
            "Found 4608 files belonging to 2 classes.\n",
            "Using 4378 files for training.\n",
            "Found 4608 files belonging to 2 classes.\n",
            "Using 230 files for validation.\n",
            "Found 1316 files belonging to 2 classes.\n"
          ]
        }
      ]
    },
    {
      "cell_type": "code",
      "execution_count": 12,
      "metadata": {},
      "outputs": [
        {
          "output_type": "execute_result",
          "data": {
            "text/plain": [
              "['apple', 'banana']"
            ]
          },
          "metadata": {},
          "execution_count": 12
        }
      ],
      "source": [
        "rgb_dataset_train.class_names"
      ]
    },
    {
      "cell_type": "code",
      "execution_count": 13,
      "metadata": {},
      "outputs": [],
      "source": [
        "rgb_model.compile(optimizer='adam', loss='categorical_crossentropy', metrics=['accuracy'])"
      ]
    },
    {
      "cell_type": "code",
      "execution_count": 14,
      "metadata": {},
      "outputs": [
        {
          "output_type": "stream",
          "name": "stdout",
          "text": [
            "5/5 [==============================] - 76s 12s/step - loss: 1.7522 - accuracy: 0.4878 - val_loss: 0.1144 - val_accuracy: 0.9609\n"
          ]
        },
        {
          "output_type": "execute_result",
          "data": {
            "text/plain": [
              "<tensorflow.python.keras.callbacks.History at 0x220a5bcf518>"
            ]
          },
          "metadata": {},
          "execution_count": 14
        }
      ],
      "source": [
        "rgb_model.fit(rgb_dataset_train, epochs=1, steps_per_epoch=5, validation_data=rgb_dataset_valid)"
      ]
    },
    {
      "cell_type": "code",
      "execution_count": 15,
      "metadata": {},
      "outputs": [],
      "source": [
        "rgb_model.save_weights('weights.h5')"
      ]
    },
    {
      "cell_type": "code",
      "execution_count": 17,
      "metadata": {},
      "outputs": [
        {
          "output_type": "stream",
          "name": "stdout",
          "text": [
            "42/42 [==============================] - 163s 4s/step - loss: 0.2357 - accuracy: 0.9157\n"
          ]
        },
        {
          "output_type": "execute_result",
          "data": {
            "text/plain": [
              "[0.23565857112407684, 0.9156534671783447]"
            ]
          },
          "metadata": {},
          "execution_count": 17
        }
      ],
      "source": [
        "rgb_model.evaluate(rgb_dataset_test)"
      ]
    }
  ]
}